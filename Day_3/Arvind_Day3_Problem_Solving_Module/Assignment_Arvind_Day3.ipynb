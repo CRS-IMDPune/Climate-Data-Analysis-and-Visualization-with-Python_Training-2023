{
 "cells": [
  {
   "cell_type": "code",
   "execution_count": null,
   "id": "36636a24",
   "metadata": {},
   "outputs": [],
   "source": [
    "# importing required liabraries\n",
    "import pandas as pd\n",
    "import numpy as np\n",
    "import matplotlib.pyplot as plt\n",
    "import geopandas as gpd\n",
    "import matplotlib.dates as mdates"
   ]
  },
  {
   "cell_type": "code",
   "execution_count": null,
   "id": "a9558a7e",
   "metadata": {},
   "outputs": [],
   "source": [
    "actual  = pd.read_excel(\"sample_data.xlsx\", sheet_name='actual',header=1)\n",
    "normal  = pd.read_excel(\"sample_data.xlsx\", sheet_name='norm', header=1)\n",
    "spatial = pd.read_excel(\"sample_data.xlsx\", sheet_name='spatial', header =1)"
   ]
  },
  {
   "cell_type": "code",
   "execution_count": null,
   "id": "58c6f8a2",
   "metadata": {},
   "outputs": [],
   "source": [
    "actual.head()"
   ]
  },
  {
   "cell_type": "markdown",
   "id": "3648a691",
   "metadata": {},
   "source": [
    "## The below section will display the data information for first station (CAR NICOBAR)"
   ]
  },
  {
   "cell_type": "code",
   "execution_count": null,
   "id": "51dbbd99",
   "metadata": {},
   "outputs": [],
   "source": [
    "first_station = actual.iloc[0, :]\n",
    "first_station"
   ]
  },
  {
   "cell_type": "markdown",
   "id": "35aca89b",
   "metadata": {},
   "source": [
    "## Assignment"
   ]
  },
  {
   "cell_type": "markdown",
   "id": "777b4a2d",
   "metadata": {},
   "source": [
    "## Display the station information for NANCOWARY station (Hint: replace 0 with 2)"
   ]
  },
  {
   "cell_type": "code",
   "execution_count": null,
   "id": "39d44fc6",
   "metadata": {},
   "outputs": [],
   "source": [
    "Nancowary_station = actual.iloc[0, :]\n",
    "Nancowary_station"
   ]
  }
 ],
 "metadata": {
  "kernelspec": {
   "display_name": "Python 3 (ipykernel)",
   "language": "python",
   "name": "python3"
  },
  "language_info": {
   "codemirror_mode": {
    "name": "ipython",
    "version": 3
   },
   "file_extension": ".py",
   "mimetype": "text/x-python",
   "name": "python",
   "nbconvert_exporter": "python",
   "pygments_lexer": "ipython3",
   "version": "3.9.13"
  }
 },
 "nbformat": 4,
 "nbformat_minor": 5
}
