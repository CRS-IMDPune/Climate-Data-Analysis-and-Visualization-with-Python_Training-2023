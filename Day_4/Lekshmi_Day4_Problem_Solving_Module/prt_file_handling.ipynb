{
 "cells": [
  {
   "cell_type": "markdown",
   "id": "ded424e9",
   "metadata": {},
   "source": [
    "### Extracting data for one particular station from Excel or prt or prn files. (Data : ind91-ind110)"
   ]
  },
  {
   "cell_type": "code",
   "execution_count": 20,
   "id": "0da432cf",
   "metadata": {},
   "outputs": [],
   "source": [
    "import numpy as np\n",
    "f=open('ind99.prt')"
   ]
  },
  {
   "cell_type": "code",
   "execution_count": 21,
   "id": "2aee39d5",
   "metadata": {},
   "outputs": [
    {
     "data": {
      "text/plain": [
       "'  204'"
      ]
     },
     "execution_count": 21,
     "metadata": {},
     "output_type": "execute_result"
    }
   ],
   "source": [
    "a= f.readlines()[204]\n",
    "a[0:5]"
   ]
  },
  {
   "cell_type": "code",
   "execution_count": 22,
   "id": "4002c4b3",
   "metadata": {},
   "outputs": [
    {
     "data": {
      "text/plain": [
       "'204'"
      ]
     },
     "execution_count": 22,
     "metadata": {},
     "output_type": "execute_result"
    }
   ],
   "source": [
    "a[0:5].strip()"
   ]
  },
  {
   "cell_type": "code",
   "execution_count": 3,
   "id": "d88941dc",
   "metadata": {},
   "outputs": [
    {
     "data": {
      "text/plain": [
       "'BAUNSI                '"
      ]
     },
     "execution_count": 3,
     "metadata": {},
     "output_type": "execute_result"
    }
   ],
   "source": [
    "a[9:31]"
   ]
  },
  {
   "cell_type": "code",
   "execution_count": 4,
   "id": "8a3b784c",
   "metadata": {},
   "outputs": [
    {
     "data": {
      "text/plain": [
       "'24.80'"
      ]
     },
     "execution_count": 4,
     "metadata": {},
     "output_type": "execute_result"
    }
   ],
   "source": [
    "a[31:36]"
   ]
  },
  {
   "cell_type": "code",
   "execution_count": 5,
   "id": "b3597976",
   "metadata": {},
   "outputs": [
    {
     "data": {
      "text/plain": [
       "'87.03'"
      ]
     },
     "execution_count": 5,
     "metadata": {},
     "output_type": "execute_result"
    }
   ],
   "source": [
    "a[39:44]"
   ]
  },
  {
   "cell_type": "code",
   "execution_count": 6,
   "id": "5a76e038",
   "metadata": {},
   "outputs": [
    {
     "data": {
      "text/plain": [
       "(32,)"
      ]
     },
     "execution_count": 6,
     "metadata": {},
     "output_type": "execute_result"
    }
   ],
   "source": [
    "import numpy as np\n",
    "index=np.arange(45,232,6)\n",
    "index.shape"
   ]
  },
  {
   "cell_type": "code",
   "execution_count": 7,
   "id": "ac9f6fca",
   "metadata": {},
   "outputs": [
    {
     "data": {
      "text/plain": [
       "[0.0,\n",
       " 0.0,\n",
       " 0.0,\n",
       " 0.0,\n",
       " 0.0,\n",
       " 0.0,\n",
       " 0.0,\n",
       " 0.0,\n",
       " 0.0,\n",
       " 0.0,\n",
       " 0.0,\n",
       " 0.0,\n",
       " 0.0,\n",
       " 0.0,\n",
       " 0.0,\n",
       " 0.0,\n",
       " 0.0,\n",
       " 0.0,\n",
       " 0.0,\n",
       " 0.0,\n",
       " 0.0,\n",
       " 0.0,\n",
       " 0.0,\n",
       " 0.0,\n",
       " 0.0,\n",
       " 0.0,\n",
       " 0.0,\n",
       " 0.0,\n",
       " 0.0,\n",
       " 0.0,\n",
       " 0.0]"
      ]
     },
     "execution_count": 7,
     "metadata": {},
     "output_type": "execute_result"
    }
   ],
   "source": [
    "data=[]\n",
    "for i in range(0,index.shape[0]-1):\n",
    "    tmp=np.float64(a[index[i]:index[i+1]])\n",
    "    data.append(tmp)\n",
    "    del tmp\n",
    "data"
   ]
  },
  {
   "cell_type": "code",
   "execution_count": 8,
   "id": "c9215588",
   "metadata": {},
   "outputs": [
    {
     "data": {
      "text/plain": [
       "0.0"
      ]
     },
     "execution_count": 8,
     "metadata": {},
     "output_type": "execute_result"
    }
   ],
   "source": [
    "np.float64(a[45:51])"
   ]
  },
  {
   "cell_type": "code",
   "execution_count": 9,
   "id": "6dc891a0",
   "metadata": {},
   "outputs": [
    {
     "data": {
      "text/plain": [
       "'  0.0 '"
      ]
     },
     "execution_count": 9,
     "metadata": {},
     "output_type": "execute_result"
    }
   ],
   "source": [
    "a[51:57]"
   ]
  },
  {
   "cell_type": "code",
   "execution_count": 10,
   "id": "d7dc677e",
   "metadata": {},
   "outputs": [
    {
     "data": {
      "text/plain": [
       "array([ 45,  51,  57,  63,  69,  75,  81,  87,  93,  99, 105, 111, 117,\n",
       "       123, 129, 135, 141, 147, 153, 159, 165, 171, 177, 183, 189, 195,\n",
       "       201, 207, 213, 219, 225, 231])"
      ]
     },
     "execution_count": 10,
     "metadata": {},
     "output_type": "execute_result"
    }
   ],
   "source": [
    "index"
   ]
  },
  {
   "cell_type": "code",
   "execution_count": null,
   "id": "b218cd8b",
   "metadata": {},
   "outputs": [],
   "source": []
  },
  {
   "cell_type": "code",
   "execution_count": 11,
   "id": "42045296",
   "metadata": {},
   "outputs": [],
   "source": [
    "idn=[]\n",
    "Station=[]\n",
    "lat=[]\n",
    "lon=[]\n",
    "Data=np.empty((500,31),'float')        #3686\n",
    "index=np.arange(45,232,6)\n",
    "index.shape\n",
    "f=open('ind99.prt')\n",
    "lines= f.readlines()\n",
    "for i in range(1,501):                 #3687\n",
    "    a=lines[i]\n",
    "    idn.append(np.float64(a[0:5]))\n",
    "    Station.append(a[9:31])\n",
    "    lat.append(np.float64(a[31:36]))\n",
    "    lon.append(np.float64(a[39:44]))\n",
    "    data=[]\n",
    "    for j in range(0,index.shape[0]-1):\n",
    "        tmp=a[index[j]:index[j+1]]\n",
    "        data.append(np.float64(tmp))\n",
    "        del tmp\n",
    "    Data[i-1,:]=np.array(data)\n",
    "    del a,data\n",
    "f.close()"
   ]
  },
  {
   "cell_type": "code",
   "execution_count": null,
   "id": "89191291",
   "metadata": {},
   "outputs": [],
   "source": [
    "\n"
   ]
  },
  {
   "cell_type": "code",
   "execution_count": 12,
   "id": "9ae283d7",
   "metadata": {},
   "outputs": [],
   "source": [
    "import pandas as pd\n",
    "df_1=pd.DataFrame()\n",
    "df_1['ID']=idn\n",
    "df_1['Station']=Station\n",
    "df_1['Lat']=lat\n",
    "df_1['Lon']=lon\n",
    "\n",
    "columns=np.arange(1,32,1)\n",
    "column_names=list(columns)\n",
    "for i in range(0,31):\n",
    "    df_1[column_names[i]]=Data[:,i]"
   ]
  },
  {
   "cell_type": "code",
   "execution_count": 23,
   "id": "ddf1a3d9",
   "metadata": {},
   "outputs": [
    {
     "data": {
      "text/html": [
       "<div>\n",
       "<style scoped>\n",
       "    .dataframe tbody tr th:only-of-type {\n",
       "        vertical-align: middle;\n",
       "    }\n",
       "\n",
       "    .dataframe tbody tr th {\n",
       "        vertical-align: top;\n",
       "    }\n",
       "\n",
       "    .dataframe thead th {\n",
       "        text-align: right;\n",
       "    }\n",
       "</style>\n",
       "<table border=\"1\" class=\"dataframe\">\n",
       "  <thead>\n",
       "    <tr style=\"text-align: right;\">\n",
       "      <th></th>\n",
       "      <th>ID</th>\n",
       "      <th>Station</th>\n",
       "      <th>Lat</th>\n",
       "      <th>Lon</th>\n",
       "      <th>1</th>\n",
       "      <th>2</th>\n",
       "      <th>3</th>\n",
       "      <th>4</th>\n",
       "      <th>5</th>\n",
       "      <th>6</th>\n",
       "      <th>...</th>\n",
       "      <th>22</th>\n",
       "      <th>23</th>\n",
       "      <th>24</th>\n",
       "      <th>25</th>\n",
       "      <th>26</th>\n",
       "      <th>27</th>\n",
       "      <th>28</th>\n",
       "      <th>29</th>\n",
       "      <th>30</th>\n",
       "      <th>31</th>\n",
       "    </tr>\n",
       "  </thead>\n",
       "  <tbody>\n",
       "    <tr>\n",
       "      <th>0</th>\n",
       "      <td>1.0</td>\n",
       "      <td>ADILABAD</td>\n",
       "      <td>19.65</td>\n",
       "      <td>78.53</td>\n",
       "      <td>-99.9</td>\n",
       "      <td>-99.9</td>\n",
       "      <td>-99.9</td>\n",
       "      <td>-99.9</td>\n",
       "      <td>-99.9</td>\n",
       "      <td>-99.9</td>\n",
       "      <td>...</td>\n",
       "      <td>-99.9</td>\n",
       "      <td>-99.9</td>\n",
       "      <td>-99.9</td>\n",
       "      <td>-99.9</td>\n",
       "      <td>-99.9</td>\n",
       "      <td>-99.9</td>\n",
       "      <td>-99.9</td>\n",
       "      <td>-99.9</td>\n",
       "      <td>-99.9</td>\n",
       "      <td>-99.9</td>\n",
       "    </tr>\n",
       "    <tr>\n",
       "      <th>1</th>\n",
       "      <td>2.0</td>\n",
       "      <td>ADILABAD</td>\n",
       "      <td>19.66</td>\n",
       "      <td>78.53</td>\n",
       "      <td>-99.9</td>\n",
       "      <td>-99.9</td>\n",
       "      <td>-99.9</td>\n",
       "      <td>-99.9</td>\n",
       "      <td>-99.9</td>\n",
       "      <td>-99.9</td>\n",
       "      <td>...</td>\n",
       "      <td>-99.9</td>\n",
       "      <td>-99.9</td>\n",
       "      <td>-99.9</td>\n",
       "      <td>-99.9</td>\n",
       "      <td>-99.9</td>\n",
       "      <td>-99.9</td>\n",
       "      <td>-99.9</td>\n",
       "      <td>-99.9</td>\n",
       "      <td>-99.9</td>\n",
       "      <td>-99.9</td>\n",
       "    </tr>\n",
       "    <tr>\n",
       "      <th>2</th>\n",
       "      <td>3.0</td>\n",
       "      <td>ASIFABAD</td>\n",
       "      <td>19.36</td>\n",
       "      <td>79.30</td>\n",
       "      <td>-99.9</td>\n",
       "      <td>-99.9</td>\n",
       "      <td>-99.9</td>\n",
       "      <td>-99.9</td>\n",
       "      <td>-99.9</td>\n",
       "      <td>-99.9</td>\n",
       "      <td>...</td>\n",
       "      <td>-99.9</td>\n",
       "      <td>-99.9</td>\n",
       "      <td>-99.9</td>\n",
       "      <td>-99.9</td>\n",
       "      <td>-99.9</td>\n",
       "      <td>-99.9</td>\n",
       "      <td>-99.9</td>\n",
       "      <td>-99.9</td>\n",
       "      <td>-99.9</td>\n",
       "      <td>-99.9</td>\n",
       "    </tr>\n",
       "    <tr>\n",
       "      <th>3</th>\n",
       "      <td>4.0</td>\n",
       "      <td>BOATH</td>\n",
       "      <td>19.33</td>\n",
       "      <td>78.31</td>\n",
       "      <td>-99.9</td>\n",
       "      <td>-99.9</td>\n",
       "      <td>-99.9</td>\n",
       "      <td>-99.9</td>\n",
       "      <td>-99.9</td>\n",
       "      <td>-99.9</td>\n",
       "      <td>...</td>\n",
       "      <td>-99.9</td>\n",
       "      <td>-99.9</td>\n",
       "      <td>-99.9</td>\n",
       "      <td>-99.9</td>\n",
       "      <td>-99.9</td>\n",
       "      <td>-99.9</td>\n",
       "      <td>-99.9</td>\n",
       "      <td>-99.9</td>\n",
       "      <td>-99.9</td>\n",
       "      <td>-99.9</td>\n",
       "    </tr>\n",
       "    <tr>\n",
       "      <th>4</th>\n",
       "      <td>5.0</td>\n",
       "      <td>LAXMANCHANDA</td>\n",
       "      <td>19.13</td>\n",
       "      <td>78.46</td>\n",
       "      <td>-99.9</td>\n",
       "      <td>-99.9</td>\n",
       "      <td>-99.9</td>\n",
       "      <td>-99.9</td>\n",
       "      <td>-99.9</td>\n",
       "      <td>-99.9</td>\n",
       "      <td>...</td>\n",
       "      <td>-99.9</td>\n",
       "      <td>-99.9</td>\n",
       "      <td>-99.9</td>\n",
       "      <td>-99.9</td>\n",
       "      <td>-99.9</td>\n",
       "      <td>-99.9</td>\n",
       "      <td>-99.9</td>\n",
       "      <td>-99.9</td>\n",
       "      <td>-99.9</td>\n",
       "      <td>-99.9</td>\n",
       "    </tr>\n",
       "    <tr>\n",
       "      <th>...</th>\n",
       "      <td>...</td>\n",
       "      <td>...</td>\n",
       "      <td>...</td>\n",
       "      <td>...</td>\n",
       "      <td>...</td>\n",
       "      <td>...</td>\n",
       "      <td>...</td>\n",
       "      <td>...</td>\n",
       "      <td>...</td>\n",
       "      <td>...</td>\n",
       "      <td>...</td>\n",
       "      <td>...</td>\n",
       "      <td>...</td>\n",
       "      <td>...</td>\n",
       "      <td>...</td>\n",
       "      <td>...</td>\n",
       "      <td>...</td>\n",
       "      <td>...</td>\n",
       "      <td>...</td>\n",
       "      <td>...</td>\n",
       "      <td>...</td>\n",
       "    </tr>\n",
       "    <tr>\n",
       "      <th>495</th>\n",
       "      <td>496.0</td>\n",
       "      <td>AHMEDABAD AERO</td>\n",
       "      <td>23.06</td>\n",
       "      <td>72.63</td>\n",
       "      <td>0.0</td>\n",
       "      <td>0.0</td>\n",
       "      <td>0.0</td>\n",
       "      <td>0.0</td>\n",
       "      <td>0.0</td>\n",
       "      <td>0.0</td>\n",
       "      <td>...</td>\n",
       "      <td>0.0</td>\n",
       "      <td>0.0</td>\n",
       "      <td>0.0</td>\n",
       "      <td>0.0</td>\n",
       "      <td>0.0</td>\n",
       "      <td>0.0</td>\n",
       "      <td>0.0</td>\n",
       "      <td>0.0</td>\n",
       "      <td>0.0</td>\n",
       "      <td>0.0</td>\n",
       "    </tr>\n",
       "    <tr>\n",
       "      <th>496</th>\n",
       "      <td>497.0</td>\n",
       "      <td>AMRELI</td>\n",
       "      <td>21.60</td>\n",
       "      <td>71.21</td>\n",
       "      <td>0.0</td>\n",
       "      <td>0.0</td>\n",
       "      <td>0.0</td>\n",
       "      <td>0.0</td>\n",
       "      <td>0.0</td>\n",
       "      <td>0.0</td>\n",
       "      <td>...</td>\n",
       "      <td>0.0</td>\n",
       "      <td>0.0</td>\n",
       "      <td>0.0</td>\n",
       "      <td>0.0</td>\n",
       "      <td>0.0</td>\n",
       "      <td>0.0</td>\n",
       "      <td>0.0</td>\n",
       "      <td>0.0</td>\n",
       "      <td>0.0</td>\n",
       "      <td>0.0</td>\n",
       "    </tr>\n",
       "    <tr>\n",
       "      <th>497</th>\n",
       "      <td>498.0</td>\n",
       "      <td>BHAKUDAR</td>\n",
       "      <td>24.03</td>\n",
       "      <td>72.26</td>\n",
       "      <td>0.0</td>\n",
       "      <td>0.0</td>\n",
       "      <td>0.0</td>\n",
       "      <td>0.0</td>\n",
       "      <td>0.0</td>\n",
       "      <td>0.0</td>\n",
       "      <td>...</td>\n",
       "      <td>0.0</td>\n",
       "      <td>0.0</td>\n",
       "      <td>0.0</td>\n",
       "      <td>0.0</td>\n",
       "      <td>0.0</td>\n",
       "      <td>0.0</td>\n",
       "      <td>0.0</td>\n",
       "      <td>0.0</td>\n",
       "      <td>0.0</td>\n",
       "      <td>0.0</td>\n",
       "    </tr>\n",
       "    <tr>\n",
       "      <th>498</th>\n",
       "      <td>499.0</td>\n",
       "      <td>CHITRASONI</td>\n",
       "      <td>24.25</td>\n",
       "      <td>72.48</td>\n",
       "      <td>0.0</td>\n",
       "      <td>0.0</td>\n",
       "      <td>0.0</td>\n",
       "      <td>0.0</td>\n",
       "      <td>0.0</td>\n",
       "      <td>0.0</td>\n",
       "      <td>...</td>\n",
       "      <td>0.0</td>\n",
       "      <td>0.0</td>\n",
       "      <td>0.0</td>\n",
       "      <td>0.0</td>\n",
       "      <td>0.0</td>\n",
       "      <td>0.0</td>\n",
       "      <td>0.0</td>\n",
       "      <td>0.0</td>\n",
       "      <td>0.0</td>\n",
       "      <td>0.0</td>\n",
       "    </tr>\n",
       "    <tr>\n",
       "      <th>499</th>\n",
       "      <td>500.0</td>\n",
       "      <td>DANTIWADA</td>\n",
       "      <td>24.16</td>\n",
       "      <td>72.48</td>\n",
       "      <td>0.0</td>\n",
       "      <td>0.0</td>\n",
       "      <td>0.0</td>\n",
       "      <td>0.0</td>\n",
       "      <td>0.0</td>\n",
       "      <td>0.0</td>\n",
       "      <td>...</td>\n",
       "      <td>0.0</td>\n",
       "      <td>0.0</td>\n",
       "      <td>0.0</td>\n",
       "      <td>0.0</td>\n",
       "      <td>0.0</td>\n",
       "      <td>0.0</td>\n",
       "      <td>0.0</td>\n",
       "      <td>0.0</td>\n",
       "      <td>0.0</td>\n",
       "      <td>0.0</td>\n",
       "    </tr>\n",
       "  </tbody>\n",
       "</table>\n",
       "<p>500 rows × 35 columns</p>\n",
       "</div>"
      ],
      "text/plain": [
       "        ID                 Station    Lat    Lon     1     2     3     4  \\\n",
       "0      1.0  ADILABAD                19.65  78.53 -99.9 -99.9 -99.9 -99.9   \n",
       "1      2.0  ADILABAD                19.66  78.53 -99.9 -99.9 -99.9 -99.9   \n",
       "2      3.0  ASIFABAD                19.36  79.30 -99.9 -99.9 -99.9 -99.9   \n",
       "3      4.0  BOATH                   19.33  78.31 -99.9 -99.9 -99.9 -99.9   \n",
       "4      5.0  LAXMANCHANDA            19.13  78.46 -99.9 -99.9 -99.9 -99.9   \n",
       "..     ...                     ...    ...    ...   ...   ...   ...   ...   \n",
       "495  496.0  AHMEDABAD AERO          23.06  72.63   0.0   0.0   0.0   0.0   \n",
       "496  497.0  AMRELI                  21.60  71.21   0.0   0.0   0.0   0.0   \n",
       "497  498.0  BHAKUDAR                24.03  72.26   0.0   0.0   0.0   0.0   \n",
       "498  499.0  CHITRASONI              24.25  72.48   0.0   0.0   0.0   0.0   \n",
       "499  500.0  DANTIWADA               24.16  72.48   0.0   0.0   0.0   0.0   \n",
       "\n",
       "        5     6  ...    22    23    24    25    26    27    28    29    30  \\\n",
       "0   -99.9 -99.9  ... -99.9 -99.9 -99.9 -99.9 -99.9 -99.9 -99.9 -99.9 -99.9   \n",
       "1   -99.9 -99.9  ... -99.9 -99.9 -99.9 -99.9 -99.9 -99.9 -99.9 -99.9 -99.9   \n",
       "2   -99.9 -99.9  ... -99.9 -99.9 -99.9 -99.9 -99.9 -99.9 -99.9 -99.9 -99.9   \n",
       "3   -99.9 -99.9  ... -99.9 -99.9 -99.9 -99.9 -99.9 -99.9 -99.9 -99.9 -99.9   \n",
       "4   -99.9 -99.9  ... -99.9 -99.9 -99.9 -99.9 -99.9 -99.9 -99.9 -99.9 -99.9   \n",
       "..    ...   ...  ...   ...   ...   ...   ...   ...   ...   ...   ...   ...   \n",
       "495   0.0   0.0  ...   0.0   0.0   0.0   0.0   0.0   0.0   0.0   0.0   0.0   \n",
       "496   0.0   0.0  ...   0.0   0.0   0.0   0.0   0.0   0.0   0.0   0.0   0.0   \n",
       "497   0.0   0.0  ...   0.0   0.0   0.0   0.0   0.0   0.0   0.0   0.0   0.0   \n",
       "498   0.0   0.0  ...   0.0   0.0   0.0   0.0   0.0   0.0   0.0   0.0   0.0   \n",
       "499   0.0   0.0  ...   0.0   0.0   0.0   0.0   0.0   0.0   0.0   0.0   0.0   \n",
       "\n",
       "       31  \n",
       "0   -99.9  \n",
       "1   -99.9  \n",
       "2   -99.9  \n",
       "3   -99.9  \n",
       "4   -99.9  \n",
       "..    ...  \n",
       "495   0.0  \n",
       "496   0.0  \n",
       "497   0.0  \n",
       "498   0.0  \n",
       "499   0.0  \n",
       "\n",
       "[500 rows x 35 columns]"
      ]
     },
     "execution_count": 23,
     "metadata": {},
     "output_type": "execute_result"
    }
   ],
   "source": [
    "df_1"
   ]
  },
  {
   "cell_type": "code",
   "execution_count": 14,
   "id": "6e9a7804",
   "metadata": {},
   "outputs": [],
   "source": [
    "df_1.to_csv('prt_to_csv_output_test.csv')"
   ]
  },
  {
   "cell_type": "code",
   "execution_count": null,
   "id": "99b9e005",
   "metadata": {},
   "outputs": [],
   "source": []
  },
  {
   "cell_type": "code",
   "execution_count": null,
   "id": "4b481b11",
   "metadata": {},
   "outputs": [],
   "source": []
  },
  {
   "cell_type": "code",
   "execution_count": null,
   "id": "ff6d47ad",
   "metadata": {},
   "outputs": [],
   "source": []
  },
  {
   "cell_type": "code",
   "execution_count": null,
   "id": "eb27a831",
   "metadata": {},
   "outputs": [],
   "source": []
  },
  {
   "cell_type": "code",
   "execution_count": null,
   "id": "f8d42349",
   "metadata": {},
   "outputs": [],
   "source": []
  }
 ],
 "metadata": {
  "kernelspec": {
   "display_name": "Python 3 (ipykernel)",
   "language": "python",
   "name": "python3"
  },
  "language_info": {
   "codemirror_mode": {
    "name": "ipython",
    "version": 3
   },
   "file_extension": ".py",
   "mimetype": "text/x-python",
   "name": "python",
   "nbconvert_exporter": "python",
   "pygments_lexer": "ipython3",
   "version": "3.9.12"
  }
 },
 "nbformat": 4,
 "nbformat_minor": 5
}
