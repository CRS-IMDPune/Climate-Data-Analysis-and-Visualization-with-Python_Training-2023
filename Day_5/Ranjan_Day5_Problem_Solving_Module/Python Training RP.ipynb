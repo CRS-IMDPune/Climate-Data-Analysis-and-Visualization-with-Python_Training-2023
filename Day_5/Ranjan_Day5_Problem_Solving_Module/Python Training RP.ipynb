{
 "cells": [
  {
   "cell_type": "code",
   "execution_count": 2,
   "id": "1f5a9830",
   "metadata": {},
   "outputs": [],
   "source": [
    "#Read Data from ASCII file\n",
    "\n",
    "data_array = []\n",
    "with open('C:/Users/NDC-RANJAN/Downloads/punet2.dat') as ip_file:\n",
    "    for line in ip_file:\n",
    "\n",
    "        tmax = int(line[11:14])/10 if ' ' not in line[11:14] else None\n",
    "        \n",
    "        tmin = int(line[14:17])/10 if ' ' not in line[14:17] else None\n",
    "        \n",
    "        rf = int(line[19:23])/10 if ' ' not in line[19:23] else None\n",
    "        \n",
    "        data_array.append((line[:5],line[77:79]+line[5:7],line[7:9],line[9:11],tmax,tmin,rf))"
   ]
  },
  {
   "cell_type": "code",
   "execution_count": 3,
   "id": "431cd8c2",
   "metadata": {},
   "outputs": [],
   "source": [
    "#Creation of pandas dataframe\n",
    "\n",
    "import pandas as pd\n",
    "df = pd.DataFrame(data_array,columns=['station','year','month','date','tmax','tmin','rf'])  \n",
    "\n",
    "#Export to CSV File\n",
    "df.to_csv('pune_wx.csv',index=False,header=['Station Index','Year','Month','Date','Maximum Temperature','Minimum Temperature','Rainfall'])"
   ]
  },
  {
   "cell_type": "code",
   "execution_count": 172,
   "id": "cc35888d",
   "metadata": {},
   "outputs": [],
   "source": [
    "#Prepare climatological information\n",
    "\n",
    "df[['tmax','tmin']].mean()\n",
    "#Mean Temperature\n",
    "mean_temp = df.groupby(['month'])[['tmax','tmin']].mean().round(1)\n",
    "\n",
    "#Monthly Mean Rainfall\n",
    "mean_monthly_rf = df.groupby(['year', 'month'])['rf'].sum().reset_index()\n",
    "mean_rf = mean_monthly_rf.groupby(['month'])['rf'].mean().round(1).reset_index()\n",
    "\n",
    "normals = pd.merge(mean_temp, mean_rf, on='month')\n",
    "normals.columns = ['month', 'tmax', 'tmin', 'rf']\n",
    "\n",
    "normals\n",
    "#pd.set_option('display.max_rows',None)                     #Display all rows"
   ]
  },
  {
   "cell_type": "code",
   "execution_count": 171,
   "id": "eece3884",
   "metadata": {},
   "outputs": [],
   "source": [
    "#Extremes for each month\n",
    "extremes= df.groupby('month').agg({'tmax':'max','tmin':'min','rf':'max',})\n",
    "extremes\n",
    "\n",
    "nor_extr = pd.merge(normals,extremes,on='month')\n",
    "nor_extr.columns = ['Month','Mean_Tmax','Mean_Tmin','Mean_Monthly_RF','Extreme_Tmax','Extreme_Tmin','Extreme_RF']\n",
    "nor_extr\n"
   ]
  },
  {
   "cell_type": "code",
   "execution_count": 64,
   "id": "23925d8e",
   "metadata": {},
   "outputs": [],
   "source": [
    "#Filtering of data\n",
    "\n",
    "#Values greater than  some threshold data\n",
    "\n",
    "df[(df['month'] == '05') & (df['tmax'] > 40)]"
   ]
  },
  {
   "cell_type": "code",
   "execution_count": 170,
   "id": "715722f8",
   "metadata": {},
   "outputs": [],
   "source": [
    "#Filtering to find extreme events\n",
    "\n",
    "extr_tmax = df[df['month'] == '05'].sort_values(by=['tmax'], ascending = False).head(10)\n",
    "\n",
    "df[df['month'] == '06'].nlargest(10, 'rf')[['year','month','date','rf']]\n",
    "extr_tmax.loc['tmax']"
   ]
  },
  {
   "cell_type": "code",
   "execution_count": 169,
   "id": "e4979a52",
   "metadata": {},
   "outputs": [],
   "source": [
    "#Count number of occurrences of each value\n",
    "\n",
    "tmax_count=df['tmax'].value_counts().reset_index()\n",
    "tmax_count.columns = ['Tmax','Count']\n",
    "tmax_count\n",
    "tmax_count.sort_values(by=['Tmax'])"
   ]
  },
  {
   "cell_type": "code",
   "execution_count": 165,
   "id": "d0eb2998",
   "metadata": {},
   "outputs": [],
   "source": [
    "#Plot values\n",
    "\n",
    "import matplotlib.pyplot as plt\n",
    "plt.bar(normals['month'],normals['tmax'])\n",
    "plt.plot(normals['month'],normals['tmin'])\n",
    "plt.bar(tmax_count['Tmax'],tmax_count['Count'])"
   ]
  },
  {
   "cell_type": "code",
   "execution_count": null,
   "id": "7e658dda",
   "metadata": {},
   "outputs": [],
   "source": [
    "import matplotlib.pyplot as plt\n",
    "mean_maxt = df.groupby(['month']).agg({'tmax':'mean'}).round(1).reset_index()\n",
    "plt.bar(mean_maxt['month'],mean_maxt['tmax'])\n",
    "plt.xlabel('Month')\n",
    "plt.ylabel('Rainfall')\n",
    "plt.title('Monthly Tmax')\n",
    "plt.ylim(20,40)\n",
    "for index, value in enumerate(mean_maxt['tmax']):\n",
    "    plt.text(index, value, str(value), ha='center', va='bottom')\n"
   ]
  },
  {
   "cell_type": "code",
   "execution_count": 166,
   "id": "fc22a42a",
   "metadata": {},
   "outputs": [],
   "source": [
    "ann_temp = df.groupby('year')[['tmax']].mean().reset_index().round(1)\n",
    "ann_temp"
   ]
  },
  {
   "cell_type": "code",
   "execution_count": 167,
   "id": "bf90788e",
   "metadata": {},
   "outputs": [],
   "source": [
    "plt.bar(ann_temp['year'],ann_temp['tmax'])\n",
    "plt.xlabel('Year \\u2192')\n",
    "plt.ylabel('Maximum Temperature \\u2192')\n",
    "plt.title('Annual Maximum Temperature')\n",
    "plt.ylim(30)\n",
    "\n"
   ]
  },
  {
   "cell_type": "code",
   "execution_count": 168,
   "id": "3df55062",
   "metadata": {},
   "outputs": [],
   "source": [
    "import pymannkendall as mk\n",
    "slope_result = mk.original_test(ann_temp['tmax'])\n",
    "slope_result"
   ]
  },
  {
   "cell_type": "code",
   "execution_count": 6,
   "id": "273eb090",
   "metadata": {},
   "outputs": [
    {
     "data": {
      "image/png": "[encoded data removed]",
      "text/plain": [
       "<Figure size 432x288 with 1 Axes>"
      ]
     },
     "metadata": {
      "needs_background": "light"
     },
     "output_type": "display_data"
    }
   ],
   "source": [
    "\n"
   ]
  },
  {
   "cell_type": "code",
   "execution_count": null,
   "id": "64eba133",
   "metadata": {},
   "outputs": [],
   "source": []
  }
 ],
 "metadata": {
  "kernelspec": {
   "display_name": "Python 3",
   "language": "python",
   "name": "python3"
  },
  "language_info": {
   "codemirror_mode": {
    "name": "ipython",
    "version": 3
   },
   "file_extension": ".py",
   "mimetype": "text/x-python",
   "name": "python",
   "nbconvert_exporter": "python",
   "pygments_lexer": "ipython3",
   "version": "3.8.8"
  }
 },
 "nbformat": 4,
 "nbformat_minor": 5
}
